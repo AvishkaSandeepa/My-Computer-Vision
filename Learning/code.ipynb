{
 "cells": [
  {
   "cell_type": "code",
   "execution_count": 1,
   "id": "parliamentary-league",
   "metadata": {},
   "outputs": [],
   "source": [
    "import cv2 as cv\n",
    "import numpy as np\n",
    "import matplotlib.pyplot as plt"
   ]
  },
  {
   "cell_type": "markdown",
   "id": "hollow-strap",
   "metadata": {},
   "source": [
    "## Chapter 1 :Input Reading"
   ]
  },
  {
   "cell_type": "code",
   "execution_count": 8,
   "id": "crazy-effort",
   "metadata": {},
   "outputs": [
    {
     "name": "stdout",
     "output_type": "stream",
     "text": [
      "Can't receive frame (stream end?). Exiting ...\n"
     ]
    }
   ],
   "source": [
    "cap = cv.VideoCapture('resources/test-video.mp4') # give the correct path here\n",
    "while True:\n",
    "    ret, frame = cap.read()\n",
    "\n",
    "    # if frame is read correctly ret is True\n",
    "    if not ret:\n",
    "        print(\"Can't receive frame (stream end?). Exiting ...\")\n",
    "        break\n",
    "\n",
    "    if cv.waitKey(1) & 0xFF == ord('q'):\n",
    "        break\n",
    "        \n",
    "    cv.imshow(\"IMAGE\", frame)\n",
    "    \n",
    "\n",
    "cv.destroyAllWindows()"
   ]
  },
  {
   "cell_type": "code",
   "execution_count": 7,
   "id": "sensitive-integrity",
   "metadata": {},
   "outputs": [],
   "source": [
    "cap = cv.VideoCapture(0) # give the correct path for default webcam ( zero is for default webcam )\n",
    "cap.set(3, 640) # define the width of the frame\n",
    "cap.set(4, 480) # define the height of the frame\n",
    "while True:\n",
    "    ret, frame = cap.read()\n",
    "\n",
    "#     # if frame is read correctly ret is True\n",
    "#     if not ret:\n",
    "#         print(\"Can't receive frame (stream end?). Exiting ...\")\n",
    "#         break\n",
    "\n",
    "    if cv.waitKey(1) & 0xFF == ord('q'):\n",
    "        break\n",
    "        \n",
    "    cv.imshow(\"IMAGE\", frame)\n",
    "    \n",
    "\n",
    "cv.destroyAllWindows()"
   ]
  },
  {
   "cell_type": "markdown",
   "id": "stainless-collective",
   "metadata": {},
   "source": [
    "## Chapter 2 :Basic Functions"
   ]
  },
  {
   "cell_type": "code",
   "execution_count": 13,
   "id": "patient-knock",
   "metadata": {},
   "outputs": [],
   "source": [
    "img = cv.imread('resources/lena.png')\n",
    "\n",
    "imgGray = cv.cvtColor(img, cv.COLOR_BGR2GRAY) # convert image color to gray scale\n",
    "\n",
    "cv.imshow(\"Gray Image\", imgGray)\n",
    "cv.waitKey(0)\n",
    "cv.destroyAllWindows()"
   ]
  },
  {
   "cell_type": "code",
   "execution_count": 16,
   "id": "hearing-westminster",
   "metadata": {},
   "outputs": [],
   "source": [
    "imgBlur = cv.GaussianBlur(imgGray, (7,7), 0) # convert image color to gray scale\n",
    "\n",
    "cv.imshow(\"Blur Image\", imgBlur)\n",
    "cv.waitKey(0)\n",
    "cv.destroyAllWindows()"
   ]
  },
  {
   "cell_type": "code",
   "execution_count": null,
   "id": "saving-pitch",
   "metadata": {},
   "outputs": [],
   "source": [
    "#### Edge detection is a technique of image processing used to identify points in a digital image with discontinuities,simply to say, sharp changes in the image brightness. These points where the image brightness varies sharply are called the edges (or boundaries) of the image.There are few techniques for edge detection....... they are"
   ]
  },
  {
   "cell_type": "code",
   "execution_count": 27,
   "id": "regional-citation",
   "metadata": {},
   "outputs": [],
   "source": [
    "imgCanny = cv.Canny(imgGray, 100, 150) # convert image color to gray scale\n",
    "\n",
    "cv.imshow(\"Canny Image\", imgCanny)\n",
    "cv.waitKey(0)\n",
    "cv.destroyAllWindows()"
   ]
  },
  {
   "cell_type": "code",
   "execution_count": null,
   "id": "quiet-ottawa",
   "metadata": {},
   "outputs": [],
   "source": []
  }
 ],
 "metadata": {
  "kernelspec": {
   "display_name": "Python 3",
   "language": "python",
   "name": "python3"
  },
  "language_info": {
   "codemirror_mode": {
    "name": "ipython",
    "version": 3
   },
   "file_extension": ".py",
   "mimetype": "text/x-python",
   "name": "python",
   "nbconvert_exporter": "python",
   "pygments_lexer": "ipython3",
   "version": "3.8.8"
  }
 },
 "nbformat": 4,
 "nbformat_minor": 5
}
